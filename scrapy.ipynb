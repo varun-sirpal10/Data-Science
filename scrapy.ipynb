{
 "cells": [
  {
   "cell_type": "code",
   "execution_count": 1,
   "metadata": {},
   "outputs": [
    {
     "name": "stdout",
     "output_type": "stream",
     "text": [
      "Requirement already satisfied: scrapy in c:\\users\\varun sirpal\\anaconda3\\lib\\site-packages (1.6.0)\n",
      "Requirement already satisfied: queuelib in c:\\users\\varun sirpal\\anaconda3\\lib\\site-packages (from scrapy) (1.5.0)\n",
      "Requirement already satisfied: six>=1.5.2 in c:\\users\\varun sirpal\\anaconda3\\lib\\site-packages (from scrapy) (1.12.0)\n",
      "Requirement already satisfied: service-identity in c:\\users\\varun sirpal\\anaconda3\\lib\\site-packages (from scrapy) (18.1.0)\n",
      "Requirement already satisfied: pyOpenSSL in c:\\users\\varun sirpal\\anaconda3\\lib\\site-packages (from scrapy) (19.0.0)\n",
      "Requirement already satisfied: lxml in c:\\users\\varun sirpal\\anaconda3\\lib\\site-packages (from scrapy) (4.3.2)\n",
      "Requirement already satisfied: PyDispatcher>=2.0.5 in c:\\users\\varun sirpal\\anaconda3\\lib\\site-packages (from scrapy) (2.0.5)\n",
      "Requirement already satisfied: parsel>=1.5 in c:\\users\\varun sirpal\\anaconda3\\lib\\site-packages (from scrapy) (1.5.1)\n",
      "Requirement already satisfied: Twisted>=13.1.0 in c:\\users\\varun sirpal\\anaconda3\\lib\\site-packages (from scrapy) (19.2.1)\n",
      "Requirement already satisfied: w3lib>=1.17.0 in c:\\users\\varun sirpal\\anaconda3\\lib\\site-packages (from scrapy) (1.20.0)\n",
      "Requirement already satisfied: cssselect>=0.9 in c:\\users\\varun sirpal\\anaconda3\\lib\\site-packages (from scrapy) (1.0.3)\n",
      "Requirement already satisfied: pyasn1 in c:\\users\\varun sirpal\\anaconda3\\lib\\site-packages (from service-identity->scrapy) (0.4.5)\n",
      "Requirement already satisfied: cryptography in c:\\users\\varun sirpal\\anaconda3\\lib\\site-packages (from service-identity->scrapy) (2.6.1)\n",
      "Requirement already satisfied: attrs>=16.0.0 in c:\\users\\varun sirpal\\anaconda3\\lib\\site-packages (from service-identity->scrapy) (19.1.0)\n",
      "Requirement already satisfied: pyasn1-modules in c:\\users\\varun sirpal\\anaconda3\\lib\\site-packages (from service-identity->scrapy) (0.2.5)\n",
      "Requirement already satisfied: incremental>=16.10.1 in c:\\users\\varun sirpal\\anaconda3\\lib\\site-packages (from Twisted>=13.1.0->scrapy) (17.5.0)\n",
      "Requirement already satisfied: Automat>=0.3.0 in c:\\users\\varun sirpal\\anaconda3\\lib\\site-packages (from Twisted>=13.1.0->scrapy) (0.7.0)\n",
      "Requirement already satisfied: hyperlink>=17.1.1 in c:\\users\\varun sirpal\\anaconda3\\lib\\site-packages (from Twisted>=13.1.0->scrapy) (19.0.0)\n",
      "Requirement already satisfied: constantly>=15.1 in c:\\users\\varun sirpal\\anaconda3\\lib\\site-packages (from Twisted>=13.1.0->scrapy) (15.1.0)\n",
      "Requirement already satisfied: PyHamcrest>=1.9.0 in c:\\users\\varun sirpal\\anaconda3\\lib\\site-packages (from Twisted>=13.1.0->scrapy) (1.9.0)\n",
      "Requirement already satisfied: zope.interface>=4.4.2 in c:\\users\\varun sirpal\\anaconda3\\lib\\site-packages (from Twisted>=13.1.0->scrapy) (4.6.0)\n",
      "Requirement already satisfied: asn1crypto>=0.21.0 in c:\\users\\varun sirpal\\anaconda3\\lib\\site-packages (from cryptography->service-identity->scrapy) (0.24.0)\n",
      "Requirement already satisfied: cffi!=1.11.3,>=1.8 in c:\\users\\varun sirpal\\anaconda3\\lib\\site-packages (from cryptography->service-identity->scrapy) (1.12.2)\n",
      "Requirement already satisfied: idna>=2.5 in c:\\users\\varun sirpal\\anaconda3\\lib\\site-packages (from hyperlink>=17.1.1->Twisted>=13.1.0->scrapy) (2.8)\n",
      "Requirement already satisfied: setuptools in c:\\users\\varun sirpal\\anaconda3\\lib\\site-packages (from PyHamcrest>=1.9.0->Twisted>=13.1.0->scrapy) (40.8.0)\n",
      "Requirement already satisfied: pycparser in c:\\users\\varun sirpal\\anaconda3\\lib\\site-packages (from cffi!=1.11.3,>=1.8->cryptography->service-identity->scrapy) (2.19)\n"
     ]
    }
   ],
   "source": [
    "!pip install scrapy"
   ]
  },
  {
   "cell_type": "code",
   "execution_count": 2,
   "metadata": {},
   "outputs": [
    {
     "name": "stdout",
     "output_type": "stream",
     "text": [
      "New Scrapy project 'myproject', using template directory 'c:\\users\\varun sirpal\\anaconda3\\lib\\site-packages\\scrapy\\templates\\project', created in:\n",
      "    C:\\Users\\Varun Sirpal\\Desktop\\Coding Blocks Data Science\\myproject\n",
      "\n",
      "You can start your first spider with:\n",
      "    cd myproject\n",
      "    scrapy genspider example example.com\n"
     ]
    }
   ],
   "source": [
    "!scrapy startproject myproject"
   ]
  },
  {
   "cell_type": "code",
   "execution_count": null,
   "metadata": {},
   "outputs": [],
   "source": []
  }
 ],
 "metadata": {
  "kernelspec": {
   "display_name": "Python 3",
   "language": "python",
   "name": "python3"
  },
  "language_info": {
   "codemirror_mode": {
    "name": "ipython",
    "version": 3
   },
   "file_extension": ".py",
   "mimetype": "text/x-python",
   "name": "python",
   "nbconvert_exporter": "python",
   "pygments_lexer": "ipython3",
   "version": "3.7.3"
  }
 },
 "nbformat": 4,
 "nbformat_minor": 2
}
